{
 "cells": [
  {
   "cell_type": "code",
   "execution_count": 3,
   "id": "8a64339a-ba02-4762-996b-c5079e672108",
   "metadata": {},
   "outputs": [
    {
     "name": "stdout",
     "output_type": "stream",
     "text": [
      "ab\n"
     ]
    }
   ],
   "source": [
    "# Tipos de dados\n",
    "\n",
    "letra_1 = \"a\"\n",
    "\n",
    "letra_2 = \"b\"\n",
    "\n",
    "letras = letra_1 + letra_2\n",
    "\n",
    "print(letras)"
   ]
  },
  {
   "cell_type": "code",
   "execution_count": 7,
   "id": "088b24ef-bab7-4520-8c8e-82aaec576958",
   "metadata": {},
   "outputs": [
    {
     "data": {
      "text/plain": [
       "5"
      ]
     },
     "execution_count": 7,
     "metadata": {},
     "output_type": "execute_result"
    }
   ],
   "source": [
    "#Tipos de dados inteiro\n",
    "\n",
    "2 + 3 # adição de números interios"
   ]
  },
  {
   "cell_type": "code",
   "execution_count": 9,
   "id": "4206e75e-cdee-48cc-ad6c-9d1e4b99c628",
   "metadata": {},
   "outputs": [
    {
     "data": {
      "text/plain": [
       "7.0"
      ]
     },
     "execution_count": 9,
     "metadata": {},
     "output_type": "execute_result"
    }
   ],
   "source": [
    "2.3 + 4.7 # adição de números reais"
   ]
  },
  {
   "cell_type": "code",
   "execution_count": 11,
   "id": "3e52fcd3-fcad-4c43-98b7-a860c3502afa",
   "metadata": {},
   "outputs": [
    {
     "name": "stdout",
     "output_type": "stream",
     "text": [
      "23\n"
     ]
    }
   ],
   "source": [
    "a = \"2\" # a é do tipo string (str)\n",
    "\n",
    "b = \"3\" # b é do tipo str\n",
    "\n",
    "c = a + b\n",
    "\n",
    "print(c)"
   ]
  },
  {
   "cell_type": "code",
   "execution_count": 13,
   "id": "aa71118d-7bcc-42ac-9108-9b6552343b35",
   "metadata": {},
   "outputs": [
    {
     "name": "stdout",
     "output_type": "stream",
     "text": [
      "23\n"
     ]
    }
   ],
   "source": [
    "d = int(c)\n",
    "\n",
    "print(d)"
   ]
  },
  {
   "cell_type": "code",
   "execution_count": 15,
   "id": "06977c4e-c07f-41e2-89e7-9043bb4fe87c",
   "metadata": {},
   "outputs": [
    {
     "data": {
      "text/plain": [
       "str"
      ]
     },
     "execution_count": 15,
     "metadata": {},
     "output_type": "execute_result"
    }
   ],
   "source": [
    "type(c)"
   ]
  },
  {
   "cell_type": "code",
   "execution_count": 17,
   "id": "1b834ba0-3b9e-40f6-b2f9-5583165126da",
   "metadata": {},
   "outputs": [
    {
     "data": {
      "text/plain": [
       "int"
      ]
     },
     "execution_count": 17,
     "metadata": {},
     "output_type": "execute_result"
    }
   ],
   "source": [
    "type(d)"
   ]
  },
  {
   "cell_type": "code",
   "execution_count": null,
   "id": "2907406a-2e88-45e0-9adf-457dc51f9d21",
   "metadata": {},
   "outputs": [],
   "source": []
  }
 ],
 "metadata": {
  "kernelspec": {
   "display_name": "Python [conda env:base] *",
   "language": "python",
   "name": "conda-base-py"
  },
  "language_info": {
   "codemirror_mode": {
    "name": "ipython",
    "version": 3
   },
   "file_extension": ".py",
   "mimetype": "text/x-python",
   "name": "python",
   "nbconvert_exporter": "python",
   "pygments_lexer": "ipython3",
   "version": "3.12.7"
  }
 },
 "nbformat": 4,
 "nbformat_minor": 5
}
