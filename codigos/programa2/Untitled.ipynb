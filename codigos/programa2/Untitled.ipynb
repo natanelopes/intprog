{
 "cells": [
  {
   "cell_type": "code",
   "execution_count": 8,
   "id": "9b7b76d4-5e92-4b01-bbe6-388f26a72411",
   "metadata": {},
   "outputs": [
    {
     "name": "stdout",
     "output_type": "stream",
     "text": [
      "casa\n"
     ]
    }
   ],
   "source": [
    "# Teste de uma linha python\n",
    "\n",
    "print(\"casa\")"
   ]
  },
  {
   "cell_type": "code",
   "execution_count": 10,
   "id": "2fcf992c-9374-4d28-a8c0-87d1484f61b1",
   "metadata": {},
   "outputs": [],
   "source": [
    "palavra = \"casa\""
   ]
  },
  {
   "cell_type": "code",
   "execution_count": 12,
   "id": "3f7cf884-c450-4544-9a0b-b06f07e701a5",
   "metadata": {},
   "outputs": [
    {
     "name": "stdout",
     "output_type": "stream",
     "text": [
      "casa\n"
     ]
    }
   ],
   "source": [
    "print(palavra)"
   ]
  },
  {
   "cell_type": "markdown",
   "id": "567847d0-bcb0-4836-8b22-dd4b0685f825",
   "metadata": {},
   "source": [
    "# Entrada de dados em Python\n",
    "\n",
    "Use a função input"
   ]
  },
  {
   "cell_type": "code",
   "execution_count": 17,
   "id": "94a62b09-a7d5-4f7c-b861-7aa991888e0c",
   "metadata": {},
   "outputs": [
    {
     "name": "stdin",
     "output_type": "stream",
     "text": [
      "Digite seu nome:  Natane\n"
     ]
    }
   ],
   "source": [
    "a = input(\"Digite seu nome: \")"
   ]
  },
  {
   "cell_type": "code",
   "execution_count": 19,
   "id": "790f9981-2848-438f-ac6c-68c583a0c596",
   "metadata": {},
   "outputs": [
    {
     "name": "stdout",
     "output_type": "stream",
     "text": [
      "Natane\n"
     ]
    }
   ],
   "source": [
    "print(a)"
   ]
  },
  {
   "cell_type": "code",
   "execution_count": 23,
   "id": "312d8a97-9671-4b58-80ea-1ddd06c49eeb",
   "metadata": {},
   "outputs": [
    {
     "name": "stdin",
     "output_type": "stream",
     "text": [
      "Digite o primeiro número inteiro:  5\n",
      "Digite o segundo número inteiro:  5\n"
     ]
    },
    {
     "name": "stdout",
     "output_type": "stream",
     "text": [
      "A soma do 5 com o 5 é igual a 10.\n"
     ]
    }
   ],
   "source": [
    "\"\"\"\n",
    "Programa: aloca_memo23\n",
    "Descrição: Este programa lê dois números inteiros, calcula a soma deles e imprime o resultado na tela.\n",
    "Autor: Natane Fraga Lopes.\n",
    "Data: 18/02/2024\n",
    "Versão: 0.0.2\n",
    "\"\"\"\n",
    "\n",
    "\n",
    "# Alocação de memória\n",
    "\n",
    "num1 = 0\n",
    "num2 = 0\n",
    "resultado = 0\n",
    "\n",
    "\n",
    "# Entrada de dados\n",
    "\n",
    "num1 = int(input(\"Digite o primeiro número inteiro: \"))\n",
    "num2 = int(input(\"Digite o segundo número inteiro: \"))\n",
    "\n",
    "\n",
    "# Processamento de dados\n",
    "\n",
    "resultado = num1 + num2\n",
    "\n",
    "\n",
    "# Saída de dados\n",
    "\n",
    "print(f\"A soma do {num1} com o {num2} é igual a {resultado}.\")"
   ]
  },
  {
   "cell_type": "code",
   "execution_count": null,
   "id": "34311a2b-056e-4a8b-b4fe-ab7e2fe527fa",
   "metadata": {},
   "outputs": [],
   "source": []
  }
 ],
 "metadata": {
  "kernelspec": {
   "display_name": "Python [conda env:base] *",
   "language": "python",
   "name": "conda-base-py"
  },
  "language_info": {
   "codemirror_mode": {
    "name": "ipython",
    "version": 3
   },
   "file_extension": ".py",
   "mimetype": "text/x-python",
   "name": "python",
   "nbconvert_exporter": "python",
   "pygments_lexer": "ipython3",
   "version": "3.12.7"
  }
 },
 "nbformat": 4,
 "nbformat_minor": 5
}
