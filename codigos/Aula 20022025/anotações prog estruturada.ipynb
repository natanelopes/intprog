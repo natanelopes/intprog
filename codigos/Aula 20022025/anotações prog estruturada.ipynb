{
 "cells": [
  {
   "cell_type": "markdown",
   "id": "8244e5b8-b9b5-49f0-9cf6-11e51d9fd939",
   "metadata": {},
   "source": [
    "# Programação estruturada"
   ]
  },
  {
   "cell_type": "markdown",
   "id": "1ca77636-d5d0-4beb-a908-e014fd7aa0f2",
   "metadata": {},
   "source": [
    "## Problema:"
   ]
  },
  {
   "cell_type": "markdown",
   "id": "d1e3f5fd-9c49-4553-8d27-c807a07b2533",
   "metadata": {},
   "source": [
    "Escrever duas vezes a palavra casa na tela"
   ]
  },
  {
   "cell_type": "code",
   "execution_count": 13,
   "id": "c7c68c2d-93d0-4b55-bb57-24a387f0421d",
   "metadata": {},
   "outputs": [
    {
     "name": "stdout",
     "output_type": "stream",
     "text": [
      "casa\n",
      "casa\n"
     ]
    }
   ],
   "source": [
    "## Solução sequencial\n",
    "\n",
    "print(\"casa\")\n",
    "print(\"casa\")"
   ]
  },
  {
   "cell_type": "code",
   "execution_count": 15,
   "id": "7aa412e7-2596-4626-80c9-00be1070dba5",
   "metadata": {},
   "outputs": [
    {
     "name": "stdout",
     "output_type": "stream",
     "text": [
      "casa\n",
      "casa\n"
     ]
    }
   ],
   "source": [
    "## Solução estruturada: estrutura de controle de fluxo de excecução iteração ou repetição\n",
    "\n",
    "i = 0 # contador\n",
    "\n",
    "while i < 2:\n",
    "    print(\"casa\")\n",
    "    i = i + 1"
   ]
  },
  {
   "cell_type": "markdown",
   "id": "4a43e1d6-47f6-45a4-85ca-94bac6408da7",
   "metadata": {},
   "source": [
    "### Exemplo"
   ]
  },
  {
   "cell_type": "markdown",
   "id": "195c2b5e-74ae-40a1-84f2-9e7f96264559",
   "metadata": {},
   "source": [
    "Faça um programa que imprima os números de 1 a 5."
   ]
  },
  {
   "cell_type": "code",
   "execution_count": 19,
   "id": "164b6a2e-6244-4d03-97c9-80f7933486b1",
   "metadata": {},
   "outputs": [
    {
     "name": "stdout",
     "output_type": "stream",
     "text": [
      "1\n",
      "2\n",
      "3\n",
      "4\n",
      "5\n"
     ]
    }
   ],
   "source": [
    "i = 0\n",
    "\n",
    "while i < 5:\n",
    "    print(i + 1)\n",
    "    i = i + 1"
   ]
  },
  {
   "cell_type": "markdown",
   "id": "6b3f356d-9085-41af-aa41-f8232d72072f",
   "metadata": {},
   "source": [
    "## Estrutura seleção"
   ]
  },
  {
   "cell_type": "code",
   "execution_count": 25,
   "id": "3ca64155-a144-4f79-a90a-3502fa21465f",
   "metadata": {},
   "outputs": [
    {
     "name": "stdout",
     "output_type": "stream",
     "text": [
      "Está certo\n"
     ]
    }
   ],
   "source": [
    "# Seleção simples\n",
    "\n",
    "i = 0\n",
    "\n",
    "if i > -1:\n",
    "    print(\"Está certo\")"
   ]
  },
  {
   "cell_type": "markdown",
   "id": "4313e452-cc6f-43ec-931f-35cc91f797ea",
   "metadata": {},
   "source": [
    "### Exemplo"
   ]
  },
  {
   "cell_type": "markdown",
   "id": "13e7e896-cc20-4606-913b-206161124221",
   "metadata": {},
   "source": [
    "Faça um programa que pergunte a idade de uma pessoa. Se a idade for mmaior do que 18 anos, o programa imprime na tela o texto \"Oi! Você é um adulto.\""
   ]
  },
  {
   "cell_type": "code",
   "execution_count": 39,
   "id": "f54526b2-42ce-479c-8d01-901a2629c733",
   "metadata": {},
   "outputs": [
    {
     "name": "stdin",
     "output_type": "stream",
     "text": [
      "Qual a sua idade? 10\n"
     ]
    },
    {
     "name": "stdout",
     "output_type": "stream",
     "text": [
      "Bom saber sua idade.\n"
     ]
    }
   ],
   "source": [
    "idade = int(input(\"Qual a sua idade?\"))\n",
    "\n",
    "if idade > 18:\n",
    "    print(\"Oi! Você é um adulto.\")\n",
    "\n",
    "print(\"Bom saber sua idade.\")"
   ]
  },
  {
   "cell_type": "markdown",
   "id": "f635147d-7eb1-4376-871a-49c73f764f55",
   "metadata": {},
   "source": [
    "### Exemplo"
   ]
  },
  {
   "cell_type": "markdown",
   "id": "02e9f28f-630d-41e8-8845-42c572237a2e",
   "metadata": {},
   "source": [
    "Faça um programa que pergunte a idade de uma pessoa e, Se esta for maior que ou igual a 18 anos, imprima na tela \"Oi! Você é um adulto.\". Caso contrário, imprima \"Oi! Você é menor de idade.\""
   ]
  },
  {
   "cell_type": "code",
   "execution_count": 55,
   "id": "7de0e0f6-03f3-421b-a39f-5294f7751d9b",
   "metadata": {},
   "outputs": [
    {
     "name": "stdin",
     "output_type": "stream",
     "text": [
      "Qual a sua idade? 19\n"
     ]
    },
    {
     "name": "stdout",
     "output_type": "stream",
     "text": [
      "Oi! VOcê é um adulto.\n"
     ]
    }
   ],
   "source": [
    "idade = int(input(\"Qual a sua idade?\"))\n",
    "\n",
    "if idade > 18:\n",
    "    print(\"Oi! Você é um adulto.\")\n",
    "\n",
    "else:\n",
    "    print(\"Oi! Você é menor de idade.\")"
   ]
  },
  {
   "cell_type": "code",
   "execution_count": null,
   "id": "7c2b1e5c-69c1-45e8-8efc-911e38e0b595",
   "metadata": {},
   "outputs": [],
   "source": []
  }
 ],
 "metadata": {
  "kernelspec": {
   "display_name": "Python [conda env:base] *",
   "language": "python",
   "name": "conda-base-py"
  },
  "language_info": {
   "codemirror_mode": {
    "name": "ipython",
    "version": 3
   },
   "file_extension": ".py",
   "mimetype": "text/x-python",
   "name": "python",
   "nbconvert_exporter": "python",
   "pygments_lexer": "ipython3",
   "version": "3.12.7"
  }
 },
 "nbformat": 4,
 "nbformat_minor": 5
}
